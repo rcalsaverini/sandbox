{
 "cells": [
  {
   "cell_type": "code",
   "execution_count": null,
   "metadata": {},
   "outputs": [],
   "source": [
    "import numpy as np\n",
    "from matplotlib import pyplot as plt\n",
    "import seaborn as sns\n",
    "import networkx as nx\n",
    "import tqdm\n",
    "from functools import cached_property\n",
    "from math import lcm, gcd\n",
    "\n",
    "from dataclasses import dataclass, field"
   ]
  },
  {
   "cell_type": "markdown",
   "metadata": {},
   "source": [
    "Sequence:\n",
    "\n",
    "- each number appears once;\n",
    "- $x_n$ is relatively prime to $x_{n-1}$;\n",
    "- $x_n$ is NOT relatively prime to $x_{n-2}$;\n",
    "- $x_0 = 1$.\n",
    "- $x_1 = 2$.\n",
    "- $x_3 = 3$."
   ]
  },
  {
   "cell_type": "code",
   "execution_count": null,
   "metadata": {},
   "outputs": [],
   "source": [
    "from typing import Set, List, TypeVar, Callable, Generic, Iterable, Protocol, runtime_checkable, TypedDict, Optional"
   ]
  },
  {
   "cell_type": "code",
   "execution_count": null,
   "metadata": {},
   "outputs": [],
   "source": [
    "x = {1,2,3}"
   ]
  },
  {
   "cell_type": "code",
   "execution_count": null,
   "metadata": {},
   "outputs": [],
   "source": [
    "t = TypeVar(\"t\")\n",
    "\n",
    "Equivalence = Callable[[t, t], bool]\n",
    "SortKey = Callable[[t], float]\n",
    "\n",
    "relatively_prime: Equivalence[int] = lambda x, y: gcd(x, y) == 1\n",
    "share_common_factor: Equivalence[int] = lambda x, y: gcd(x, y) != 1"
   ]
  },
  {
   "cell_type": "code",
   "execution_count": null,
   "metadata": {},
   "outputs": [],
   "source": [
    "a = TypeVar(\"a\")\n",
    "\n",
    "\n",
    "@dataclass\n",
    "class YellowstoneListSpec(Generic[a]):\n",
    "    equivalence: Optional[Equivalence[a]] = None\n",
    "    sort_key: Optional[SortKey[a]] = float\n",
    "    items: Optional[List[a]] = None\n",
    "        \n",
    "    def on(self, items: List[a]):\n",
    "        self.items = items\n",
    "        return self\n",
    "    \n",
    "    def with_equivalence(self, equivalence: Equivalence[a]):\n",
    "        self.equivalence = equivalence\n",
    "        return self\n",
    "        \n",
    "    def with_sort_key(self, sort_key: SortKey[a]):\n",
    "        self.sort_key = sort_key\n",
    "        return self\n",
    "    \n",
    "    def ready(self):\n",
    "        return YellowstoneList(self.items, self.equivalence, self.sort_key)"
   ]
  },
  {
   "cell_type": "code",
   "execution_count": null,
   "metadata": {},
   "outputs": [],
   "source": [
    "class YellowstoneList(List[a]):\n",
    "    \n",
    "    def __init__(self, items: Iterable[a], equivalence: Equivalence[a], sort_key: SortKey[a]):\n",
    "        super().__init__(items)\n",
    "        self.equivalence = equivalence\n",
    "        self.sort_key = sort_key\n",
    "        self.queued = set(super().__iter__())\n",
    "    \n",
    "    @staticmethod\n",
    "    def on(items: List[a]) -> YellowstoneListSpec[a]:\n",
    "        return YellowstoneListSpec().on(items)\n",
    "    \n",
    "    def permutation(self):\n",
    "        return YellowstonePermutation(self)\n",
    "    \n",
    "    def __iter__(self):\n",
    "        iterator = super().__iter__()\n",
    "        yield from (x for x in iterator if x in self.queued)\n",
    "\n",
    "    def iter_valid_items(self, prototype: a, antitype: a):\n",
    "        valid_items = (\n",
    "            x for x in self \n",
    "            if self.equivalence(x, prototype) \n",
    "            and not self.equivalence(x, antitype)\n",
    "        )\n",
    "        yield from sorted(valid_items, key=self.sort_key)\n",
    "        \n",
    "    def dequeue(self, x: a):\n",
    "        try:\n",
    "            self.queued.remove(x)\n",
    "        except KeyError:\n",
    "            raise ValueError(\"Item not currently queued\")\n",
    "\n",
    "    def __repr__(self):\n",
    "        return \"<\" + \", \".join([str(x) for x in self]) + f\">\"\n",
    "\n",
    "    \n",
    "@dataclass\n",
    "class YellowstonePermutation(Generic[a]):\n",
    "    items: YellowstoneList[a]\n",
    "    \n",
    "    def step(self, last, current) -> Optional[a]:\n",
    "        candidates = list(self.items.iter_valid_items(last, current))\n",
    "        if len(candidates) == 0:\n",
    "            return None\n",
    "        else:\n",
    "            return candidates[0]\n",
    "    \n",
    "    def run(self) -> List[a]:\n",
    "        last = self.items.pop(0)\n",
    "        current = self.items.pop(0)\n",
    "        output = [last, current]\n",
    "        while True:\n",
    "            next_item = self.step(last, current)\n",
    "            if next_item is None:\n",
    "                break\n",
    "            else:\n",
    "                output.append(next_item)\n",
    "                last = current\n",
    "                current = next_item\n",
    "                self.items.dequeue(next_item)\n",
    "        return output\n",
    "                "
   ]
  },
  {
   "cell_type": "code",
   "execution_count": null,
   "metadata": {},
   "outputs": [],
   "source": [
    "x = YellowstoneList.on(range(2, 100)).with_equivalence(share_common_factor).ready()"
   ]
  },
  {
   "cell_type": "code",
   "execution_count": null,
   "metadata": {},
   "outputs": [],
   "source": [
    "print(x.permutation().run())"
   ]
  },
  {
   "cell_type": "code",
   "execution_count": null,
   "metadata": {},
   "outputs": [],
   "source": [
    "xs = filter(lambda x: x % 2 == 0, range(10))"
   ]
  },
  {
   "cell_type": "code",
   "execution_count": 4,
   "metadata": {},
   "outputs": [],
   "source": [
    "from itertools import chain\n",
    "from math import lcm, gcd"
   ]
  },
  {
   "cell_type": "code",
   "execution_count": 62,
   "metadata": {},
   "outputs": [
    {
     "ename": "SyntaxError",
     "evalue": "'break' outside loop (1804056754.py, line 14)",
     "output_type": "error",
     "traceback": [
      "\u001b[0;36m  Cell \u001b[0;32mIn[62], line 14\u001b[0;36m\u001b[0m\n\u001b[0;31m    break\u001b[0m\n\u001b[0m    ^\u001b[0m\n\u001b[0;31mSyntaxError\u001b[0m\u001b[0;31m:\u001b[0m 'break' outside loop\n"
     ]
    }
   ],
   "source": [
    "def yellowstone(items):\n",
    "    x1 = 2\n",
    "    x2 = 3\n",
    "    reservoir = []\n",
    "    loop = True\n",
    "    while loop:\n",
    "        candidate = None\n",
    "        for candidate in chain(reservoir, items):\n",
    "            if (gcd(candidate, x1) != 1) and (gcd(candidate, x2) == 1):\n",
    "                break\n",
    "            else:\n",
    "                reservoir.append(candidate)\n",
    "        else:\n",
    "            loop = False\n",
    "        x1 = x2\n",
    "        x2 = candidate\n",
    "        yield candidate\n",
    "        reservoir = [x for x in sorted(set(reservoir)) if x != candidate]"
   ]
  },
  {
   "cell_type": "code",
   "execution_count": null,
   "metadata": {
    "scrolled": false
   },
   "outputs": [
    {
     "name": "stdout",
     "output_type": "stream",
     "text": [
      "4\n",
      "9\n",
      "8\n"
     ]
    }
   ],
   "source": [
    "for k in yellowstone(iter([4, 5, 6, 7, 8, 9])):\n",
    "    print(k)"
   ]
  },
  {
   "cell_type": "code",
   "execution_count": null,
   "metadata": {},
   "outputs": [],
   "source": []
  }
 ],
 "metadata": {
  "kernelspec": {
   "display_name": "Python 3 (ipykernel)",
   "language": "python",
   "name": "python3"
  },
  "language_info": {
   "codemirror_mode": {
    "name": "ipython",
    "version": 3
   },
   "file_extension": ".py",
   "mimetype": "text/x-python",
   "name": "python",
   "nbconvert_exporter": "python",
   "pygments_lexer": "ipython3",
   "version": "3.11.0"
  },
  "vscode": {
   "interpreter": {
    "hash": "c0ae966baecce97150f6fa8ca977c2812ad6b4abc5db61f4c8f9f7fe83a54fbb"
   }
  }
 },
 "nbformat": 4,
 "nbformat_minor": 2
}
