{
 "cells": [
  {
   "cell_type": "code",
   "execution_count": 1,
   "id": "6b16bd54",
   "metadata": {},
   "outputs": [],
   "source": [
    "import sympy as sm\n",
    "import numpy as np\n",
    "import matplotlib.pyplot as plt\n",
    "import seaborn as sns\n",
    "import pandas as pd"
   ]
  },
  {
   "cell_type": "markdown",
   "id": "051930f9",
   "metadata": {},
   "source": [
    "$$\\frac{df}{dx} = f^{-1}(x)$$"
   ]
  },
  {
   "cell_type": "code",
   "execution_count": 2,
   "id": "4ea5c463",
   "metadata": {},
   "outputs": [],
   "source": [
    "def diff_equation(fun, var):\n",
    "    return sm.diff(fun, var, 2).subs(var, fun) - var\n",
    "\n",
    "\n",
    "def build_formal_polynomial_expansion(var, n_coeffs):\n",
    "    coeffs = sm.symbols(\",\".join([f\"a{k}\" for k in range(n_coeffs)]))\n",
    "    return sum([coeffs[k] * var ** k  for k in range(0, n_coeffs)])\n",
    "\n",
    "\n",
    "def get_power_series_solutions(ode, n_coeffs):\n",
    "    x = sm.Symbol(\"x\")\n",
    "    f = build_formal_polynomial_expansion(x, n_coeffs)\n",
    "    g = ode(f, x).series(x, 0, n_coeffs).removeO()\n",
    "    print(g)\n",
    "    eqs = [g.subs(x, 0)] + [sm.diff(g, x, k).subs(x, 0) for k in range(1, n_coeffs)]\n",
    "    sols = sm.solve(eqs)\n",
    "    if isinstance(sols, list):\n",
    "        return x, [f.subs(sol) for sol in sols], [ode(f.subs(sol), x).expand().collect(x) for sol in sols]\n",
    "    else:\n",
    "        return x, [f.subs(sols)], [ode(f.subs(sols), x).expand().collect(x)]"
   ]
  },
  {
   "cell_type": "code",
   "execution_count": 3,
   "id": "e2e10987",
   "metadata": {},
   "outputs": [
    {
     "data": {
      "text/latex": [
       "$\\displaystyle - t + \\left. \\frac{d^{2}}{d t^{2}} f{\\left(t \\right)} \\right|_{\\substack{ t=f{\\left(t \\right)} }}$"
      ],
      "text/plain": [
       "-t + Subs(Derivative(f(t), (t, 2)), t, f(t))"
      ]
     },
     "execution_count": 3,
     "metadata": {},
     "output_type": "execute_result"
    }
   ],
   "source": [
    "f = sm.Function(\"f\")\n",
    "t = sm.Symbol(\"t\")\n",
    "diff_equation(f(t), t)"
   ]
  },
  {
   "cell_type": "code",
   "execution_count": null,
   "id": "192dc93b",
   "metadata": {
    "scrolled": false
   },
   "outputs": [],
   "source": []
  },
  {
   "cell_type": "code",
   "execution_count": 66,
   "id": "2f0ea10f",
   "metadata": {},
   "outputs": [
    {
     "name": "stdout",
     "output_type": "stream",
     "text": [
      "20*a0**3*a5 + 12*a0**2*a4 + 6*a0*a3 + 2*a2 + x**5*(20*a0**3*a5*(a1*(2*a1*a3/a0**2 + a2**2/a0**2)/a0 + 3*a5/a0 + 6*a1*a4/a0**2 + 6*a2*a3/a0**2 + a1**2*a3/a0**3 + 2*a1*a2**2/a0**3) + 12*a0**2*a4*(2*a5/a0 + 2*a1*a4/a0**2 + 2*a2*a3/a0**2) + 6*a3*a5) + x**4*(20*a0**3*a5*(3*a4/a0 + 6*a1*a3/a0**2 + 3*a2**2/a0**2 + 3*a1**2*a2/a0**3) + 12*a0**2*a4*(2*a4/a0 + 2*a1*a3/a0**2 + a2**2/a0**2) + 6*a3*a4) + x**3*(20*a0**3*a5*(3*a3/a0 + 6*a1*a2/a0**2 + a1**3/a0**3) + 12*a0**2*a4*(2*a3/a0 + 2*a1*a2/a0**2) + 6*a3**2) + x**2*(20*a0**3*a5*(3*a2/a0 + 3*a1**2/a0**2) + 12*a0**2*a4*(2*a2/a0 + a1**2/a0**2) + 6*a2*a3) + x*(60*a0**2*a1*a5 + 24*a0*a1*a4 + 6*a1*a3 - 1)\n"
     ]
    },
    {
     "name": "stderr",
     "output_type": "stream",
     "text": [
      "\n",
      "KeyboardInterrupt\n",
      "\n"
     ]
    }
   ],
   "source": [
    "(x, sols, ress) = get_power_series_solutions(diff_equation, 6)"
   ]
  },
  {
   "cell_type": "code",
   "execution_count": null,
   "id": "c0ded514",
   "metadata": {},
   "outputs": [],
   "source": [
    "sols[1]"
   ]
  },
  {
   "cell_type": "code",
   "execution_count": null,
   "id": "3be18383",
   "metadata": {},
   "outputs": [],
   "source": [
    "fig, axs = plt.subplots(ncols=2, nrows=2, figsize=(20, 5))\n",
    "\n",
    "for ax, sol, res in zip(axs.T, sols, ress):\n",
    "    fs_re = np.array([sm.re(sol.subs({x: x_val}).evalf()) for x_val in xs])\n",
    "    fs_im = np.array([sm.im(sol.subs({x: x_val}).evalf()) for x_val in xs])\n",
    "    \n",
    "    res_re = np.array([sm.re(res.subs({x: x_val}).evalf()) for x_val in xs])\n",
    "    res_im = np.array([sm.im(res.subs({x: x_val}).evalf()) for x_val in xs])\n",
    "\n",
    "    \n",
    "    ax[0].plot(xs, fs_re, label=\"real part\")\n",
    "    ax[0].plot(xs, fs_im, label=\"imaginary part\")\n",
    "    ax[0].legend()\n",
    "    ax[0].set_title(\"Solution\")\n",
    "\n",
    "    ax[1].plot(xs, res_re, label=\"real part\")\n",
    "    ax[1].plot(xs, res_im, label=\"imaginary part\")\n",
    "    ax[1].legend()\n",
    "    ax[1].set_title(\"Residue\")"
   ]
  },
  {
   "cell_type": "code",
   "execution_count": 56,
   "id": "869dd905",
   "metadata": {
    "scrolled": false
   },
   "outputs": [
    {
     "name": "stdout",
     "output_type": "stream",
     "text": [
      "(10,)\n"
     ]
    }
   ],
   "source": [
    "\n",
    "xs = np.linspace(0, 0.5, 101)\n",
    "fss = np.zeros((10, 101))\n",
    "ns = np.arange(2, 10 * 5 + 2, 5)\n",
    "print(ns.shape)\n",
    "\n",
    "# for (k, n_coeffs) in enumerate(ns):\n",
    "#     x, sols, residue = get_power_series_solutions(diff_equation, n_coeffs)\n",
    "#     print(sols, residue)\n",
    "#     if len(sols) > 0:\n",
    "#         fss[k, :] = np.array([sols[0].subs({x: x_value}) for x_value in xs])\n",
    "    "
   ]
  },
  {
   "cell_type": "code",
   "execution_count": null,
   "id": "b3f234a9",
   "metadata": {},
   "outputs": [],
   "source": [
    "data = pd.DataFrame(fss.T, columns=ns)\n",
    "data.loc[:, \"x\"] = xs\n",
    "\n",
    "data = data.melt(id_vars=[\"x\"], var_name=\"n_coeffs\", value_name=\"f\")"
   ]
  },
  {
   "cell_type": "code",
   "execution_count": null,
   "id": "17e71d66",
   "metadata": {
    "scrolled": false
   },
   "outputs": [],
   "source": [
    "fig, ax = plt.subplots()\n",
    "ax.set_ylim(-5, 5)\n",
    "norm = plt.Normalize(min(ns), max(ns))\n",
    "scm = plt.cm.ScalarMappable(cmap=\"viridis\", norm=norm)\n",
    "scm.set_array([])\n",
    "sns.lineplot(data, x=\"x\", y=\"f\", hue=\"n_coeffs\", palette=\"viridis\", ax=ax)    \n",
    "ax.get_legend().remove()\n",
    "fig.colorbar(scm)"
   ]
  },
  {
   "cell_type": "code",
   "execution_count": null,
   "id": "bf9c00b7",
   "metadata": {},
   "outputs": [],
   "source": [
    "sols[0].series(x, 0, 15)"
   ]
  },
  {
   "cell_type": "code",
   "execution_count": null,
   "id": "41aea9eb",
   "metadata": {},
   "outputs": [],
   "source": [
    "_.evalf()"
   ]
  },
  {
   "cell_type": "code",
   "execution_count": 128,
   "id": "744591e9",
   "metadata": {},
   "outputs": [
    {
     "data": {
      "text/latex": [
       "$\\displaystyle \\gamma \\left(- u + x\\right)^{2} + \\left(- \\frac{\\pi^{2}}{12} + \\frac{\\gamma^{2}}{2}\\right) \\left(- u + x\\right)^{3} + \\left(- u + x\\right)^{4} \\left(- 2 \\gamma \\left(\\frac{\\gamma^{2}}{2} + \\frac{\\pi^{2}}{12}\\right) + \\frac{7 \\gamma^{3}}{6} - \\frac{\\operatorname{polygamma}{\\left(2,1 \\right)}}{6} + \\frac{\\gamma \\pi^{2}}{12}\\right) + \\left(- u + x\\right)^{5} \\left(- 3 \\gamma^{2} \\left(\\frac{\\gamma^{2}}{2} + \\frac{\\pi^{2}}{12}\\right) - \\frac{\\pi^{4}}{160} + \\frac{\\gamma \\operatorname{polygamma}{\\left(2,1 \\right)}}{6} - \\frac{\\gamma^{2} \\pi^{2}}{24} + \\frac{23 \\gamma^{4}}{24} + \\left(\\frac{\\gamma^{2}}{2} + \\frac{\\pi^{2}}{12}\\right)^{2} - 2 \\gamma \\left(- \\frac{\\gamma \\pi^{2}}{12} + \\frac{\\operatorname{polygamma}{\\left(2,1 \\right)}}{6} - \\frac{\\gamma^{3}}{6}\\right)\\right) + x - u + O\\left(\\left(- u + x\\right)^{6}; x\\rightarrow u\\right)$"
      ],
      "text/plain": [
       "EulerGamma*(-u + x)**2 + (-pi**2/12 + EulerGamma**2/2)*(-u + x)**3 + (-u + x)**4*(-2*EulerGamma*(EulerGamma**2/2 + pi**2/12) + 7*EulerGamma**3/6 - polygamma(2, 1)/6 + EulerGamma*pi**2/12) + (-u + x)**5*(-3*EulerGamma**2*(EulerGamma**2/2 + pi**2/12) - pi**4/160 + EulerGamma*polygamma(2, 1)/6 - EulerGamma**2*pi**2/24 + 23*EulerGamma**4/24 + (EulerGamma**2/2 + pi**2/12)**2 - 2*EulerGamma*(-EulerGamma*pi**2/12 + polygamma(2, 1)/6 - EulerGamma**3/6)) + x - u + O((-u + x)**6, (x, u))"
      ]
     },
     "execution_count": 128,
     "metadata": {},
     "output_type": "execute_result"
    }
   ],
   "source": [
    "x, u = sm.symbols(\"x, u\")\n",
    "(1/sm.gamma(x - u)).series(x, u, 6)"
   ]
  },
  {
   "cell_type": "code",
   "execution_count": 129,
   "id": "e7dff18b",
   "metadata": {},
   "outputs": [
    {
     "data": {
      "text/plain": [
       "[-LambertW(u)]"
      ]
     },
     "execution_count": 129,
     "metadata": {},
     "output_type": "execute_result"
    }
   ],
   "source": [
    "\n",
    "sm.solve((x - sm.log(x)) + sm.log(-u), x)"
   ]
  },
  {
   "cell_type": "code",
   "execution_count": 130,
   "id": "3943c070",
   "metadata": {},
   "outputs": [
    {
     "data": {
      "text/latex": [
       "$\\displaystyle - \\frac{W\\left(u\\right)}{u \\left(W\\left(u\\right) + 1\\right)}$"
      ],
      "text/plain": [
       "-LambertW(u)/(u*(LambertW(u) + 1))"
      ]
     },
     "execution_count": 130,
     "metadata": {},
     "output_type": "execute_result"
    }
   ],
   "source": [
    "sm.diff(_[0], u)"
   ]
  },
  {
   "cell_type": "code",
   "execution_count": 137,
   "id": "6558f440",
   "metadata": {},
   "outputs": [
    {
     "data": {
      "text/latex": [
       "$\\displaystyle \\frac{x^{u}}{\\Gamma\\left(u + 1\\right)}$"
      ],
      "text/plain": [
       "x**u/gamma(u + 1)"
      ]
     },
     "execution_count": 137,
     "metadata": {},
     "output_type": "execute_result"
    }
   ],
   "source": [
    "expr = x**u/sm.gamma(u+1)\n",
    "expr"
   ]
  },
  {
   "cell_type": "code",
   "execution_count": 184,
   "id": "87284fe5",
   "metadata": {},
   "outputs": [],
   "source": [
    "x, u = sm.symbols(\"x, u\")\n",
    "xs = np.linspace(0, 200, 101)\n",
    "us = np.linspace(0, 100, 101)\n",
    "fs = np.array([\n",
    "    [expr.subs({x: x_val, u: u_val}).evalf() for x_val in xs]\n",
    "    for u_val in us\n",
    "])"
   ]
  },
  {
   "cell_type": "code",
   "execution_count": 185,
   "id": "629af83f",
   "metadata": {},
   "outputs": [],
   "source": [
    "data = pd.DataFrame(fs.T, columns=us)\n",
    "data.loc[:, \"x\"] = xs\n",
    "\n",
    "data = data.melt(id_vars=[\"x\"], var_name=\"u\", value_name=\"f\").astype(float)"
   ]
  },
  {
   "cell_type": "code",
   "execution_count": 186,
   "id": "c7b8b667",
   "metadata": {},
   "outputs": [
    {
     "name": "stderr",
     "output_type": "stream",
     "text": [
      "/Users/rafael.calsaverini/miniforge3/envs/sandbox/lib/python3.11/site-packages/pandas/core/arraylike.py:402: RuntimeWarning: divide by zero encountered in log10\n",
      "  result = getattr(ufunc, method)(*inputs, **kwargs)\n",
      "/var/folders/s6/w2v5p3l12nv4jz0cy2bqmqq00000gn/T/ipykernel_67595/4126587346.py:8: MatplotlibDeprecationWarning: Unable to determine Axes to steal space for Colorbar. Using gca(), but will raise in the future. Either provide the *cax* argument to use as the Axes for the Colorbar, provide the *ax* argument to steal space from it, or add *mappable* to an Axes.\n",
      "  fig.colorbar(scm)\n"
     ]
    },
    {
     "data": {
      "text/plain": [
       "<matplotlib.colorbar.Colorbar at 0x192fdfe10>"
      ]
     },
     "execution_count": 186,
     "metadata": {},
     "output_type": "execute_result"
    },
    {
     "data": {
      "image/png": "[encoded data removed]",
      "text/plain": [
       "<Figure size 640x480 with 2 Axes>"
      ]
     },
     "metadata": {},
     "output_type": "display_data"
    }
   ],
   "source": [
    "fig, ax = plt.subplots()\n",
    "ax.set_yscale(\"log\")\n",
    "norm = plt.Normalize(min(us), max(us))\n",
    "scm = plt.cm.ScalarMappable(cmap=\"viridis\", norm=norm)\n",
    "scm.set_array([])\n",
    "sns.lineplot(data, x=\"x\", y=\"f\", hue=\"u\", palette=\"viridis\", ax=ax)    \n",
    "ax.get_legend().remove()\n",
    "fig.colorbar(scm)"
   ]
  },
  {
   "cell_type": "code",
   "execution_count": null,
   "id": "1bd8b4ad",
   "metadata": {},
   "outputs": [],
   "source": []
  }
 ],
 "metadata": {
  "kernelspec": {
   "display_name": "Python 3 (ipykernel)",
   "language": "python",
   "name": "python3"
  },
  "language_info": {
   "codemirror_mode": {
    "name": "ipython",
    "version": 3
   },
   "file_extension": ".py",
   "mimetype": "text/x-python",
   "name": "python",
   "nbconvert_exporter": "python",
   "pygments_lexer": "ipython3",
   "version": "3.10.9"
  }
 },
 "nbformat": 4,
 "nbformat_minor": 5
}
