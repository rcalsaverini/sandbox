{
 "cells": [
  {
   "cell_type": "code",
   "execution_count": 36,
   "id": "8a017c17",
   "metadata": {},
   "outputs": [],
   "source": [
    "from dataclasses import dataclass\n",
    "from collections import namedtuple\n",
    "from enum import Enum\n",
    "import itertools as it\n",
    "import mingus.core.chords as chords"
   ]
  },
  {
   "cell_type": "code",
   "execution_count": 37,
   "id": "816138b2",
   "metadata": {},
   "outputs": [],
   "source": [
    "Note = Enum(\"Note\", [\"C\", \"C#\", \"D\", \"Eb\", \"E\", \"F\", \"F#\", \"G\", \"G#\", \"A\", \"Bb\", \"B\"], start=0)\n",
    "Note.__str__ = lambda self: self.name\n",
    "Note.__repr__ = lambda self: self.name\n",
    "\n",
    "note = lambda x: Note(x % 12)"
   ]
  },
  {
   "cell_type": "code",
   "execution_count": 38,
   "id": "4cd44ecc",
   "metadata": {},
   "outputs": [],
   "source": [
    "chord = namedtuple(\"chord\", [\"root\", \"third\", \"fifth\", \"seventh\"])\n",
    "\n",
    "chord.__str__ = lambda self: f\"{self.root} {self.third} {self.fifth} {self.seventh}\""
   ]
  },
  {
   "cell_type": "code",
   "execution_count": 39,
   "id": "7b41b961",
   "metadata": {},
   "outputs": [],
   "source": [
    "def transform(x):\n",
    "    new_third = note(x.seventh.value - 1)\n",
    "    new_seventh = x.third\n",
    "    for (quality_interval, character_interval) in it.permutations(range(1, 12), 2):\n",
    "        new_root = note(new_third.value - quality_interval)\n",
    "        new_fifth = note(new_root.value + character_interval)\n",
    "        yield chord(new_root, new_third, new_fifth, new_seventh)"
   ]
  },
  {
   "cell_type": "code",
   "execution_count": 66,
   "id": "fceeee6f",
   "metadata": {
    "scrolled": false
   },
   "outputs": [
    {
     "name": "stdout",
     "output_type": "stream",
     "text": [
      "Cm7+       (G# Bb C E)\n",
      "E7b5       (G# Bb D E)\n",
      "C7         (G Bb C E)\n",
      "C#dim7     (G Bb C# E)\n",
      "Gm6        (G Bb D E)\n",
      "Em7b5      (G Bb D E)\n"
     ]
    }
   ],
   "source": [
    "x = chord(Note.C, Note.E, Note.G, Note.B)\n",
    "for new_chord in transform(x):\n",
    "    for chord_name in chords.determine(str(new_chord).split(), shorthand=True):\n",
    "        print(f\"{chord_name:10s} ({new_chord})\")"
   ]
  },
  {
   "cell_type": "code",
   "execution_count": 67,
   "id": "aff4ae5b",
   "metadata": {},
   "outputs": [
    {
     "name": "stdout",
     "output_type": "stream",
     "text": [
      "EbM7       (D Eb G Bb)\n",
      "Fsus47     (C Eb F Bb)\n",
      "Cm7        (C Eb G Bb)\n",
      "EbM6       (C Eb G Bb)\n",
      "EbM|Cm     (C Eb G Bb)\n",
      "Ebsus2|Bbsus4 (Bb Eb F Bb)\n"
     ]
    }
   ],
   "source": [
    "x = chord(Note.G, Note.Bb, Note.D, Note.E)\n",
    "for new_chord in transform(x):\n",
    "    for chord_name in chords.determine(str(new_chord).split(), shorthand=True):\n",
    "        print(f\"{chord_name:10s} ({new_chord})\")"
   ]
  },
  {
   "cell_type": "code",
   "execution_count": null,
   "id": "d2617f60",
   "metadata": {},
   "outputs": [],
   "source": []
  }
 ],
 "metadata": {
  "kernelspec": {
   "display_name": "Python 3 (ipykernel)",
   "language": "python",
   "name": "python3"
  },
  "language_info": {
   "codemirror_mode": {
    "name": "ipython",
    "version": 3
   },
   "file_extension": ".py",
   "mimetype": "text/x-python",
   "name": "python",
   "nbconvert_exporter": "python",
   "pygments_lexer": "ipython3",
   "version": "3.10.10"
  }
 },
 "nbformat": 4,
 "nbformat_minor": 5
}
