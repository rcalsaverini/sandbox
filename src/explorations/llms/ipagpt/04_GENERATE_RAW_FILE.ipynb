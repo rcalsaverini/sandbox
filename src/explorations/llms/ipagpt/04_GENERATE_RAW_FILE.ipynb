{
 "cells": [
  {
   "cell_type": "code",
   "execution_count": 1,
   "id": "453a6ca9",
   "metadata": {},
   "outputs": [],
   "source": [
    "from wiktionaryparser import WiktionaryParser\n",
    "import re\n",
    "import pandas as pd\n",
    "from tqdm import auto as tqdm\n",
    "import json"
   ]
  },
  {
   "cell_type": "code",
   "execution_count": 2,
   "id": "1c5c1583",
   "metadata": {},
   "outputs": [],
   "source": [
    "parser = WiktionaryParser()"
   ]
  },
  {
   "cell_type": "code",
   "execution_count": 3,
   "id": "9a634bd0",
   "metadata": {},
   "outputs": [],
   "source": [
    "data = parser.fetch(\"ghost\")"
   ]
  },
  {
   "cell_type": "code",
   "execution_count": 4,
   "id": "af8910da",
   "metadata": {},
   "outputs": [
    {
     "data": {
      "text/plain": [
       "['(UK) IPA: /ɡəʊst/',\n",
       " '(General Australian) IPA: /ɡɐʉst/',\n",
       " '(US) IPA: /ɡoʊst/',\n",
       " 'Rhymes: -əʊst']"
      ]
     },
     "execution_count": 4,
     "metadata": {},
     "output_type": "execute_result"
    }
   ],
   "source": [
    "data[0][\"pronunciations\"][\"text\"]"
   ]
  },
  {
   "cell_type": "code",
   "execution_count": 8,
   "id": "3c424691",
   "metadata": {},
   "outputs": [],
   "source": [
    "def get_ipa_for_word(word, language):\n",
    "    for word in parser.fetch(word, language):\n",
    "        yield from word['pronunciations']['text']\n",
    "\n",
    "def get_dataset(word_input, language):\n",
    "    return {\n",
    "        word: list(get_ipa_for_word(word, language))\n",
    "        for word in tqdm.tqdm(word_input)\n",
    "    }"
   ]
  },
  {
   "cell_type": "code",
   "execution_count": 9,
   "id": "3aa15787",
   "metadata": {},
   "outputs": [],
   "source": [
    "words = pd.read_csv(\"oxford-5k.csv\")\n",
    "words_sample = words.word.tolist()"
   ]
  },
  {
   "cell_type": "code",
   "execution_count": 10,
   "id": "a91a658e",
   "metadata": {
    "scrolled": false
   },
   "outputs": [
    {
     "data": {
      "application/vnd.jupyter.widget-view+json": {
       "model_id": "65f347fb1e524767991ba6bbeb0986a8",
       "version_major": 2,
       "version_minor": 0
      },
      "text/plain": [
       "  0%|          | 0/5948 [00:00<?, ?it/s]"
      ]
     },
     "metadata": {},
     "output_type": "display_data"
    }
   ],
   "source": [
    "dataset = get_dataset(words_sample, None)"
   ]
  },
  {
   "cell_type": "code",
   "execution_count": 11,
   "id": "59d5f6ff",
   "metadata": {},
   "outputs": [],
   "source": [
    "with open(\"output.json\", \"w\") as f:\n",
    "    f.write(json.dumps(dataset))"
   ]
  },
  {
   "cell_type": "code",
   "execution_count": null,
   "id": "7d79de8d",
   "metadata": {},
   "outputs": [],
   "source": []
  }
 ],
 "metadata": {
  "kernelspec": {
   "display_name": "Python 3 (ipykernel)",
   "language": "python",
   "name": "python3"
  },
  "language_info": {
   "codemirror_mode": {
    "name": "ipython",
    "version": 3
   },
   "file_extension": ".py",
   "mimetype": "text/x-python",
   "name": "python",
   "nbconvert_exporter": "python",
   "pygments_lexer": "ipython3",
   "version": "3.10.12"
  }
 },
 "nbformat": 4,
 "nbformat_minor": 5
}
