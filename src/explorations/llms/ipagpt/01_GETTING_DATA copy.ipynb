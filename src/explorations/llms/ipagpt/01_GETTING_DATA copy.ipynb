{
 "cells": [
  {
   "cell_type": "code",
   "execution_count": 197,
   "id": "453a6ca9",
   "metadata": {},
   "outputs": [],
   "source": [
    "from wiktionaryparser import WiktionaryParser\n",
    "import re\n",
    "import pandas as pd\n",
    "from tqdm import auto as tqdm\n",
    "import json"
   ]
  },
  {
   "cell_type": "code",
   "execution_count": 2,
   "id": "1c5c1583",
   "metadata": {},
   "outputs": [],
   "source": [
    "parser = WiktionaryParser()"
   ]
  },
  {
   "cell_type": "code",
   "execution_count": 3,
   "id": "3c424691",
   "metadata": {},
   "outputs": [],
   "source": [
    "pronunciation_regexp = re.compile(\"(?P<context>.*\\s+)?IPA:\\s+(?P<ipa>.*)\")\n",
    "ipa_regexp = re.compile(\"(\\(.*\\)\\s+)?\\/(.*?)\\/\")\n",
    "\n",
    "def clean_pronunciations(pronunciations):\n",
    "    for pronunciation in pronunciations:\n",
    "        for output in clean_pronunciation(pronunciation):\n",
    "            yield output\n",
    "\n",
    "def clean_pronunciation(pronunciation):\n",
    "    for (context, ipas) in pronunciation_regexp.findall(pronunciation):\n",
    "        for additional_context, ipa in ipa_regexp.findall(ipas):\n",
    "            complete_context = f\"{context} | {additional_context}\".strip()\n",
    "            yield {\"context\": complete_context, \"ipa\": ipa.strip()}\n",
    "            \n",
    "def get_ipa_for_word(word, language):\n",
    "    for word in parser.fetch(word, language):\n",
    "        yield from clean_pronunciations(word['pronunciations']['text'])\n",
    "\n",
    "def get_dataset(words, language):\n",
    "    return pd.DataFrame([\n",
    "        dict(item, word=word)\n",
    "        for word in tqdm.tqdm(words)\n",
    "        for item in get_ipa_for_word(word, language)\n",
    "    ])"
   ]
  },
  {
   "cell_type": "code",
   "execution_count": 4,
   "id": "3aa15787",
   "metadata": {},
   "outputs": [],
   "source": [
    "words = pd.read_csv(\"oxford-5k.csv\")"
   ]
  },
  {
   "cell_type": "code",
   "execution_count": 5,
   "id": "a91a658e",
   "metadata": {},
   "outputs": [],
   "source": [
    "words_sample = words.word.tolist()"
   ]
  },
  {
   "cell_type": "code",
   "execution_count": 6,
   "id": "b3cb240c",
   "metadata": {},
   "outputs": [
    {
     "data": {
      "application/vnd.jupyter.widget-view+json": {
       "model_id": "4ce3cb03a20f417c9bfa5b55ea7fe85d",
       "version_major": 2,
       "version_minor": 0
      },
      "text/plain": [
       "  0%|          | 0/5948 [00:00<?, ?it/s]"
      ]
     },
     "metadata": {},
     "output_type": "display_data"
    }
   ],
   "source": [
    "dataset_sample = get_dataset(words_sample, \"english\")"
   ]
  },
  {
   "cell_type": "code",
   "execution_count": 7,
   "id": "39fa0b04",
   "metadata": {},
   "outputs": [
    {
     "data": {
      "text/html": [
       "<div>\n",
       "<style scoped>\n",
       "    .dataframe tbody tr th:only-of-type {\n",
       "        vertical-align: middle;\n",
       "    }\n",
       "\n",
       "    .dataframe tbody tr th {\n",
       "        vertical-align: top;\n",
       "    }\n",
       "\n",
       "    .dataframe thead th {\n",
       "        text-align: right;\n",
       "    }\n",
       "</style>\n",
       "<table border=\"1\" class=\"dataframe\">\n",
       "  <thead>\n",
       "    <tr style=\"text-align: right;\">\n",
       "      <th></th>\n",
       "      <th>context</th>\n",
       "      <th>ipa</th>\n",
       "      <th>word</th>\n",
       "    </tr>\n",
       "  </thead>\n",
       "  <tbody>\n",
       "    <tr>\n",
       "      <th>0</th>\n",
       "      <td>(UK, US)  |</td>\n",
       "      <td>eɪ</td>\n",
       "      <td>a</td>\n",
       "    </tr>\n",
       "    <tr>\n",
       "      <th>1</th>\n",
       "      <td>(General Australian)  |</td>\n",
       "      <td>æɪ</td>\n",
       "      <td>a</td>\n",
       "    </tr>\n",
       "    <tr>\n",
       "      <th>2</th>\n",
       "      <td>(phoneme)  |</td>\n",
       "      <td>æ</td>\n",
       "      <td>a</td>\n",
       "    </tr>\n",
       "    <tr>\n",
       "      <th>3</th>\n",
       "      <td>(phoneme)  |</td>\n",
       "      <td>ɑː</td>\n",
       "      <td>a</td>\n",
       "    </tr>\n",
       "    <tr>\n",
       "      <th>4</th>\n",
       "      <td>(phoneme)  |</td>\n",
       "      <td>eɪ</td>\n",
       "      <td>a</td>\n",
       "    </tr>\n",
       "    <tr>\n",
       "      <th>...</th>\n",
       "      <td>...</td>\n",
       "      <td>...</td>\n",
       "      <td>...</td>\n",
       "    </tr>\n",
       "    <tr>\n",
       "      <th>16359</th>\n",
       "      <td>(Received Pronunciation, General Australian, N...</td>\n",
       "      <td>ˈzɪə.ɹəʊ</td>\n",
       "      <td>zero</td>\n",
       "    </tr>\n",
       "    <tr>\n",
       "      <th>16360</th>\n",
       "      <td>(General American) enPR: zîrʹō('), zēʹrō('),  |</td>\n",
       "      <td>ˈzɪɚ(ˌ)oʊ</td>\n",
       "      <td>zero</td>\n",
       "    </tr>\n",
       "    <tr>\n",
       "      <th>16361</th>\n",
       "      <td>(General American) enPR: zîrʹō('), zēʹrō('),  |</td>\n",
       "      <td>ˈzi(ˌ)ɹoʊ</td>\n",
       "      <td>zero</td>\n",
       "    </tr>\n",
       "    <tr>\n",
       "      <th>16362</th>\n",
       "      <td>(General American) enPR: zōn,  |</td>\n",
       "      <td>zoʊn</td>\n",
       "      <td>zone</td>\n",
       "    </tr>\n",
       "    <tr>\n",
       "      <th>16363</th>\n",
       "      <td>(Received Pronunciation),  |</td>\n",
       "      <td>zəʊn</td>\n",
       "      <td>zone</td>\n",
       "    </tr>\n",
       "  </tbody>\n",
       "</table>\n",
       "<p>16364 rows × 3 columns</p>\n",
       "</div>"
      ],
      "text/plain": [
       "                                                 context        ipa  word\n",
       "0                                            (UK, US)  |         eɪ     a\n",
       "1                                (General Australian)  |         æɪ     a\n",
       "2                                           (phoneme)  |          æ     a\n",
       "3                                           (phoneme)  |         ɑː     a\n",
       "4                                           (phoneme)  |         eɪ     a\n",
       "...                                                  ...        ...   ...\n",
       "16359  (Received Pronunciation, General Australian, N...   ˈzɪə.ɹəʊ  zero\n",
       "16360    (General American) enPR: zîrʹō('), zēʹrō('),  |  ˈzɪɚ(ˌ)oʊ  zero\n",
       "16361    (General American) enPR: zîrʹō('), zēʹrō('),  |  ˈzi(ˌ)ɹoʊ  zero\n",
       "16362                   (General American) enPR: zōn,  |       zoʊn  zone\n",
       "16363                       (Received Pronunciation),  |       zəʊn  zone\n",
       "\n",
       "[16364 rows x 3 columns]"
      ]
     },
     "execution_count": 7,
     "metadata": {},
     "output_type": "execute_result"
    }
   ],
   "source": [
    "dataset_sample"
   ]
  },
  {
   "cell_type": "code",
   "execution_count": 8,
   "id": "671e916d",
   "metadata": {},
   "outputs": [
    {
     "name": "stdout",
     "output_type": "stream",
     "text": [
      "list, given the context enPR: lĭst,  | is pronounced like /lɪst/\n",
      "music, given the context (US)  | is pronounced like /ˈmjuzɪk/\n",
      "tell, given the context (UK, US) enPR: tĕl,  | is pronounced like /tʰɛɫ/\n",
      "slash, given the context (US)  | is pronounced like /slæʃ/\n",
      "secular, given the context (UK)  | is pronounced like /ˈsɛkjʊlə/\n",
      "survey, given the context (UK)  | is pronounced like /sɜːˈveɪ/\n",
      "home, given the context (US) enPR: hōm,  | is pronounced like /hoʊm/\n",
      "real, given the context enPR: rēəl, riəl, rēl,  | is pronounced like /ˈɹiːəl/\n",
      "call, given the context (US, cot–caught merger)  | is pronounced like /kɑl/\n",
      "work, given the context (Liverpool)  | is pronounced like /wɛːk/\n"
     ]
    }
   ],
   "source": [
    "for row in dataset_sample.sample(10).itertuples():\n",
    "    print(f\"{row.word}, given the context {row.context} is pronounced like /{row.ipa}/\" )"
   ]
  },
  {
   "cell_type": "code",
   "execution_count": 50,
   "id": "cd515b38",
   "metadata": {},
   "outputs": [],
   "source": [
    "dataset = dataset_sample.drop_duplicates().reset_index(drop=True)"
   ]
  },
  {
   "cell_type": "code",
   "execution_count": 174,
   "id": "db3fa712",
   "metadata": {},
   "outputs": [],
   "source": [
    "context_regexp = re.compile(\"\\((.*?)\\)\")\n",
    "enpr_regexp = re.compile(\"enPR:(.*)\\W\")\n",
    "\n",
    "def clean_context(context):\n",
    "    outputs = []\n",
    "    outputs = outputs + context_regexp.findall(context)\n",
    "    if 'enPR' in context:\n",
    "        outputs += [f\"enPR:{item}\" for item in enpr_regexp.findall(context)]\n",
    "    return \", \".join(outputs)\n",
    "\n",
    "dataset = dataset.assign(context_proc=dataset.context.apply(clean_context))"
   ]
  },
  {
   "cell_type": "code",
   "execution_count": 175,
   "id": "d4b5c88c",
   "metadata": {},
   "outputs": [],
   "source": [
    "dataset.to_csv(\"dataset.csv\")"
   ]
  },
  {
   "cell_type": "code",
   "execution_count": 176,
   "id": "6e13abae",
   "metadata": {},
   "outputs": [],
   "source": [
    "dataset.to_parquet(\"dataset.parquet\")"
   ]
  },
  {
   "cell_type": "code",
   "execution_count": 1,
   "id": "c396d527",
   "metadata": {},
   "outputs": [
    {
     "ename": "NameError",
     "evalue": "name 'dataset' is not defined",
     "output_type": "error",
     "traceback": [
      "\u001b[0;31m---------------------------------------------------------------------------\u001b[0m",
      "\u001b[0;31mNameError\u001b[0m                                 Traceback (most recent call last)",
      "\u001b[0;32m/var/folders/xb/gm1t4x5j3sbby4s80ty5k3z40000gn/T/ipykernel_72615/682000.py\u001b[0m in \u001b[0;36m<module>\u001b[0;34m\u001b[0m\n\u001b[0;32m----> 1\u001b[0;31m \u001b[0mdataset\u001b[0m\u001b[0;34m.\u001b[0m\u001b[0msample\u001b[0m\u001b[0;34m(\u001b[0m\u001b[0;36m20\u001b[0m\u001b[0;34m)\u001b[0m\u001b[0;34m\u001b[0m\u001b[0;34m\u001b[0m\u001b[0m\n\u001b[0m",
      "\u001b[0;31mNameError\u001b[0m: name 'dataset' is not defined"
     ]
    }
   ],
   "source": []
  },
  {
   "cell_type": "code",
   "execution_count": 191,
   "id": "18be09a1",
   "metadata": {},
   "outputs": [],
   "source": []
  },
  {
   "cell_type": "code",
   "execution_count": 203,
   "id": "cbf130cf",
   "metadata": {},
   "outputs": [],
   "source": []
  },
  {
   "cell_type": "code",
   "execution_count": null,
   "id": "b5f27926",
   "metadata": {},
   "outputs": [],
   "source": []
  }
 ],
 "metadata": {
  "kernelspec": {
   "display_name": "Python 3 (ipykernel)",
   "language": "python",
   "name": "python3"
  },
  "language_info": {
   "codemirror_mode": {
    "name": "ipython",
    "version": 3
   },
   "file_extension": ".py",
   "mimetype": "text/x-python",
   "name": "python",
   "nbconvert_exporter": "python",
   "pygments_lexer": "ipython3",
   "version": "3.9.7"
  }
 },
 "nbformat": 4,
 "nbformat_minor": 5
}
